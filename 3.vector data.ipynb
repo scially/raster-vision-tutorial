{
 "cells": [
  {
   "cell_type": "markdown",
   "metadata": {},
   "source": [
    "# 环境配置\n",
    "`raster-vision`提供了构建好的docker镜像，前期学习过程中推荐使用Docker镜像。\n",
    "\n",
    "1. 采用`raster-vision`提供的镜像，这个镜像比较多大，6G左右，拉取的时间会比较长    \n",
    "```bash\n",
    "docker pull quay.io/azavea/raster-vision:pytorch-latest\n",
    "```\n",
    "\n",
    "2. 自己构建镜像\n",
    "```bash\n",
    "git clone https://github.com/azavea/raster-vision.git\n",
    "cd raster-vision\n",
    "docker/build -n raster-vision\n",
    "```\n",
    "3. 启动镜像，docker也支持gpu，带上参数`--runtime=nvidia`就行\n",
    "```bash\n",
    "docker run -itd --rm quay.io/azavea/raster-vision:pytorch-latest /bin/bash\n",
    "```\n",
    "\n",
    "4. vscode中连接docker，然后装上jupyter插件，就可以在jupyter中写代码了"
   ]
  }
 ],
 "metadata": {
  "language_info": {
   "name": "python"
  }
 },
 "nbformat": 4,
 "nbformat_minor": 2
}
